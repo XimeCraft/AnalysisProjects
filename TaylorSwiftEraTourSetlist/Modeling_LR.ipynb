{
 "cells": [
  {
   "cell_type": "markdown",
   "metadata": {},
   "source": [
    "# Linear Regression Modeling"
   ]
  },
  {
   "cell_type": "code",
   "execution_count": 20,
   "metadata": {},
   "outputs": [],
   "source": [
    "# Requirements\n",
    "import pandas as pd\n",
    "import numpy as np\n",
    "\n",
    "np.random.seed(42)"
   ]
  },
  {
   "cell_type": "code",
   "execution_count": 2,
   "metadata": {},
   "outputs": [
    {
     "name": "stdout",
     "output_type": "stream",
     "text": [
      "Size of dataset,  (44, 15)\n"
     ]
    },
    {
     "data": {
      "text/html": [
       "<div>\n",
       "<style scoped>\n",
       "    .dataframe tbody tr th:only-of-type {\n",
       "        vertical-align: middle;\n",
       "    }\n",
       "\n",
       "    .dataframe tbody tr th {\n",
       "        vertical-align: top;\n",
       "    }\n",
       "\n",
       "    .dataframe thead th {\n",
       "        text-align: right;\n",
       "    }\n",
       "</style>\n",
       "<table border=\"1\" class=\"dataframe\">\n",
       "  <thead>\n",
       "    <tr style=\"text-align: right;\">\n",
       "      <th></th>\n",
       "      <th>is_explicit</th>\n",
       "      <th>danceability</th>\n",
       "      <th>valence</th>\n",
       "      <th>energy</th>\n",
       "      <th>loudness</th>\n",
       "      <th>acousticness</th>\n",
       "      <th>instrumentalness</th>\n",
       "      <th>liveness</th>\n",
       "      <th>speechiness</th>\n",
       "      <th>key</th>\n",
       "      <th>tempo</th>\n",
       "      <th>mode</th>\n",
       "      <th>duration_ms</th>\n",
       "      <th>time_signature</th>\n",
       "      <th>popularity</th>\n",
       "    </tr>\n",
       "    <tr>\n",
       "      <th>track_name</th>\n",
       "      <th></th>\n",
       "      <th></th>\n",
       "      <th></th>\n",
       "      <th></th>\n",
       "      <th></th>\n",
       "      <th></th>\n",
       "      <th></th>\n",
       "      <th></th>\n",
       "      <th></th>\n",
       "      <th></th>\n",
       "      <th></th>\n",
       "      <th></th>\n",
       "      <th></th>\n",
       "      <th></th>\n",
       "      <th></th>\n",
       "    </tr>\n",
       "  </thead>\n",
       "  <tbody>\n",
       "    <tr>\n",
       "      <th>Miss Americana &amp; The Heartbreak Prince</th>\n",
       "      <td>0</td>\n",
       "      <td>0.662</td>\n",
       "      <td>0.487</td>\n",
       "      <td>0.747</td>\n",
       "      <td>-6.926</td>\n",
       "      <td>0.028</td>\n",
       "      <td>0.006150</td>\n",
       "      <td>0.138</td>\n",
       "      <td>0.0736</td>\n",
       "      <td>11</td>\n",
       "      <td>150.088</td>\n",
       "      <td>0</td>\n",
       "      <td>234147</td>\n",
       "      <td>4</td>\n",
       "      <td>79</td>\n",
       "    </tr>\n",
       "    <tr>\n",
       "      <th>Cruel Summer</th>\n",
       "      <td>0</td>\n",
       "      <td>0.552</td>\n",
       "      <td>0.564</td>\n",
       "      <td>0.702</td>\n",
       "      <td>-5.707</td>\n",
       "      <td>0.117</td>\n",
       "      <td>0.000021</td>\n",
       "      <td>0.105</td>\n",
       "      <td>0.1570</td>\n",
       "      <td>9</td>\n",
       "      <td>169.994</td>\n",
       "      <td>1</td>\n",
       "      <td>178427</td>\n",
       "      <td>4</td>\n",
       "      <td>94</td>\n",
       "    </tr>\n",
       "  </tbody>\n",
       "</table>\n",
       "</div>"
      ],
      "text/plain": [
       "                                        is_explicit  danceability  valence  \\\n",
       "track_name                                                                   \n",
       "Miss Americana & The Heartbreak Prince            0         0.662    0.487   \n",
       "Cruel Summer                                      0         0.552    0.564   \n",
       "\n",
       "                                        energy  loudness  acousticness  \\\n",
       "track_name                                                               \n",
       "Miss Americana & The Heartbreak Prince   0.747    -6.926         0.028   \n",
       "Cruel Summer                             0.702    -5.707         0.117   \n",
       "\n",
       "                                        instrumentalness  liveness  \\\n",
       "track_name                                                           \n",
       "Miss Americana & The Heartbreak Prince          0.006150     0.138   \n",
       "Cruel Summer                                    0.000021     0.105   \n",
       "\n",
       "                                        speechiness  key    tempo  mode  \\\n",
       "track_name                                                                \n",
       "Miss Americana & The Heartbreak Prince       0.0736   11  150.088     0   \n",
       "Cruel Summer                                 0.1570    9  169.994     1   \n",
       "\n",
       "                                        duration_ms  time_signature  \\\n",
       "track_name                                                            \n",
       "Miss Americana & The Heartbreak Prince       234147               4   \n",
       "Cruel Summer                                 178427               4   \n",
       "\n",
       "                                        popularity  \n",
       "track_name                                          \n",
       "Miss Americana & The Heartbreak Prince          79  \n",
       "Cruel Summer                                    94  "
      ]
     },
     "execution_count": 2,
     "metadata": {},
     "output_type": "execute_result"
    }
   ],
   "source": [
    "# Load data\n",
    "df = pd.read_csv(r'era_tour_setlist.csv').set_index('track_name')\n",
    "\n",
    "# Process data\n",
    "df['is_explicit'] = df['is_explicit'].astype(int)\n",
    "\n",
    "df = df.select_dtypes(include=[int, float])\n",
    "print(\"Size of dataset, \", df.shape)\n",
    "df.head(2)"
   ]
  },
  {
   "cell_type": "code",
   "execution_count": 4,
   "metadata": {},
   "outputs": [],
   "source": [
    "# Featture selection\n",
    "df_pred = df[['valence', 'energy', 'mode', 'is_explicit', 'speechiness', 'liveness', 'key', 'tempo', 'popularity']]"
   ]
  },
  {
   "cell_type": "markdown",
   "metadata": {},
   "source": [
    "### Linear Regression with Sklearn packages"
   ]
  },
  {
   "cell_type": "code",
   "execution_count": 71,
   "metadata": {},
   "outputs": [
    {
     "name": "stdout",
     "output_type": "stream",
     "text": [
      "Training dataset size:  (35, 8)\n",
      "Testing dataset size:  (9, 8)\n",
      "Mean Squared Error:  41.37862077160974\n",
      "R square:  0.025677824854537956\n"
     ]
    }
   ],
   "source": [
    "from sklearn.preprocessing import StandardScaler\n",
    "from sklearn.model_selection import train_test_split\n",
    "from sklearn.linear_model import LinearRegression\n",
    "from sklearn.metrics import mean_squared_error, r2_score\n",
    "\n",
    "# Split training and testing dataset\n",
    "X = df_pred.drop('popularity', axis=1)\n",
    "y = df_pred['popularity']\n",
    "\n",
    "X_train, X_test, y_train, y_test = train_test_split(X, y, test_size=0.2, random_state=42)\n",
    "print(\"Training dataset size: \", X_train.shape)\n",
    "print(\"Testing dataset size: \", X_test.shape)\n",
    "\n",
    "# Standardization\n",
    "scaler = StandardScaler()\n",
    "X_train_scaled = scaler.fit_transform(X_train)\n",
    "X_test_scaled = scaler.transform(X_test)\n",
    "\n",
    "# modeling\n",
    "model = LinearRegression()\n",
    "model.fit(X_train_scaled, y_train)\n",
    "y_pred = model.predict(X_test_scaled)\n",
    "\n",
    "# evaluation\n",
    "mse = mean_squared_error(y_test, y_pred)\n",
    "r2 = r2_score(y_test, y_pred)\n",
    "\n",
    "print(\"Mean Squared Error: \", mse)\n",
    "print(\"R square: \", r2)"
   ]
  },
  {
   "cell_type": "markdown",
   "metadata": {},
   "source": [
    "### Manual Linear Regression\n",
    "\n",
    "Only focus on the mannual implementation of Multiple Linear Regression, not need to concern the result of metrics."
   ]
  },
  {
   "cell_type": "code",
   "execution_count": 96,
   "metadata": {},
   "outputs": [
    {
     "name": "stdout",
     "output_type": "stream",
     "text": [
      "Training dataset size:  (35, 8)\n",
      "Testing dataset size:  (9, 8)\n",
      "Mean Squared Error:  25.672434974227812\n",
      "R square:  -0.39561559255869305\n"
     ]
    }
   ],
   "source": [
    "# Randomly split training and testing dataset\n",
    "X = df_pred.drop('popularity', axis=1)\n",
    "y = df_pred['popularity']\n",
    "\n",
    "np.random.seed(42)\n",
    "indices = np.random.permutation(df_pred.shape[0])\n",
    "train_size = int(0.8*df_pred.shape[0])\n",
    "train_indices = indices[:train_size]\n",
    "test_indices = indices[train_size:]\n",
    "\n",
    "X_train, y_train, X_test, y_test = X.iloc[train_indices], y.iloc[train_indices], X.iloc[test_indices], y.iloc[test_indices]\n",
    "print(\"Training dataset size: \", X_train.shape)\n",
    "print(\"Testing dataset size: \", X_test.shape)\n",
    "\n",
    "# Standardization\n",
    "def standardize(col):\n",
    "    return np.mean(col, axis=0), np.std(col, axis=0)\n",
    "\n",
    "X_scaler_mean, X_scaler_std = standardize(X_train)\n",
    "y_scaler_mean, y_scaler_std = standardize(y_train)\n",
    "\n",
    "X_train_scaled = (X_train - X_scaler_mean)/X_scaler_std\n",
    "X_test_scaled = (X_test - X_scaler_mean)/X_scaler_std\n",
    "\n",
    "# modeling\n",
    "class MultipleLinearRegression():\n",
    "    def fit(self, X, y):\n",
    "        X = np.insert(X, 0, 1, axis=1)\n",
    "        self.coefficients = np.linalg.inv(X.T.dot(X)).dot(X.T).dot(y)\n",
    "\n",
    "    def predict(self, X):\n",
    "        X = np.insert(X, 0, 1, axis=1)\n",
    "        return np.dot(X, self.coefficients)\n",
    "    \n",
    "model = MultipleLinearRegression()\n",
    "model.fit(X_train_scaled, y_train)\n",
    "y_pred = model.predict(X_test_scaled)\n",
    "\n",
    "# Evaluate\n",
    "def mean_squared_error(y, y_pred):\n",
    "    return np.sum((y - y_pred)**2)/len(y)\n",
    "\n",
    "def r_score(y, y_pred):\n",
    "    tss = np.sum((y - np.mean(y))**2)\n",
    "    rss = np.sum((y - y_pred)**2)\n",
    "    return 1 - rss/tss\n",
    "\n",
    "mse = mean_squared_error(y_test, y_pred)\n",
    "r2 = r_score(y_test, y_pred)\n",
    "\n",
    "print(\"Mean Squared Error: \", mse)\n",
    "print(\"R square: \", r2)"
   ]
  }
 ],
 "metadata": {
  "kernelspec": {
   "display_name": "base",
   "language": "python",
   "name": "python3"
  },
  "language_info": {
   "codemirror_mode": {
    "name": "ipython",
    "version": 3
   },
   "file_extension": ".py",
   "mimetype": "text/x-python",
   "name": "python",
   "nbconvert_exporter": "python",
   "pygments_lexer": "ipython3",
   "version": "3.9.10"
  }
 },
 "nbformat": 4,
 "nbformat_minor": 2
}
